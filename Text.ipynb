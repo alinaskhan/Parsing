{
 "cells": [
  {
   "cell_type": "code",
   "execution_count": 15,
   "id": "1e666a3d",
   "metadata": {},
   "outputs": [
    {
     "name": "stdout",
     "output_type": "stream",
     "text": [
      "Enter your keywords, separated by commas: дамыған, жасалды, келісім, қолжетімді,  Прогресс, алғыс, қанағаттандырады, білікті, жоғары, берді, қауқарлы, Прогресс,способны, успешно, удовлетворительно, согласие \n",
      "Primary analysis saved to primary_analysis.csv\n",
      "Overall statistics saved to overall_statistics.csv\n"
     ]
    }
   ],
   "source": [
    "import os\n",
    "from collections import Counter\n",
    "import string\n",
    "import pandas as pd\n",
    "\n",
    "def load_text_files(folder_path):\n",
    "    \"\"\"Load all text files from the folder.\"\"\"\n",
    "    text_data = {}\n",
    "    for filename in os.listdir(folder_path):\n",
    "        if filename.endswith('.txt'):\n",
    "            with open(os.path.join(folder_path, filename), 'r', encoding='utf-8') as file:\n",
    "                text_data[filename] = file.read()\n",
    "    return text_data\n",
    "\n",
    "def analyze_text(text):\n",
    "    \"\"\"Analyze a single text for word counts and top words.\"\"\"\n",
    "    # Remove punctuation and convert to lowercase\n",
    "    translator = str.maketrans('', '', string.punctuation)\n",
    "    text = text.translate(translator).lower()\n",
    "    words = text.split()\n",
    "    \n",
    "    word_count = len(words)\n",
    "    word_frequencies = Counter(words)\n",
    "    return word_count, word_frequencies\n",
    "\n",
    "def main(folder_path, keywords, primary_csv, overall_csv):\n",
    "    \"\"\"Main function to analyze all text files.\"\"\"\n",
    "    text_data = load_text_files(folder_path)\n",
    "    \n",
    "    primary_analysis = []\n",
    "    total_keyword_counts = Counter()\n",
    "    \n",
    "    for filename, text in text_data.items():\n",
    "        word_count, word_frequencies = analyze_text(text)\n",
    "        \n",
    "        keyword_counts = {keyword: word_frequencies.get(keyword, 0) for keyword in keywords}\n",
    "        total_keyword_counts.update(keyword_counts)\n",
    "        \n",
    "        primary_analysis.append({\n",
    "            \"File\": filename\n",
    "            ,\n",
    "            \"Word Count\": word_count,\n",
    "            **keyword_counts\n",
    "        })\n",
    "    \n",
    "    # Create dataframes for CSV\n",
    "    primary_df = pd.DataFrame(primary_analysis)\n",
    "    overall_keywords_df = pd.DataFrame.from_dict(total_keyword_counts, orient='index', columns=['Counts']).reset_index()\n",
    "    overall_keywords_df.rename(columns={'index': 'Keyword'}, inplace=True)\n",
    "    \n",
    "    # Save results to CSV\n",
    "    primary_df.to_csv(primary_csv, index=False)\n",
    "    overall_keywords_df.to_csv(overall_csv, index=False)\n",
    "\n",
    "if __name__ == \"__main__\":\n",
    "    # Specify the folder path\n",
    "    folder_path = \"/home/alikhan/Desktop/Data/Parsing/Донор_Tengri\"\n",
    "    primary_csv = \"primary_analysis.csv\"\n",
    "    overall_csv = \"overall_statistics.csv\"\n",
    "    \n",
    "    # Input keywords from the user\n",
    "    keywords = input(\"Enter your keywords, separated by commas: \").strip().split(\",\")\n",
    "    keywords = [keyword.strip().lower() for keyword in keywords]  # Clean up the input\n",
    "    \n",
    "    # Execute the analysis\n",
    "    main(folder_path, keywords, primary_csv, overall_csv)\n",
    "    \n",
    "    print(f\"Primary analysis saved to {primary_csv}\")\n",
    "    print(f\"Overall statistics saved to {overall_csv}\")\n",
    "\n",
    "    "
   ]
  },
  {
   "cell_type": "code",
   "execution_count": null,
   "id": "713f5067",
   "metadata": {},
   "outputs": [],
   "source": []
  },
  {
   "cell_type": "code",
   "execution_count": null,
   "id": "bacd323f",
   "metadata": {},
   "outputs": [],
   "source": []
  }
 ],
 "metadata": {
  "kernelspec": {
   "display_name": "Python 3 (ipykernel)",
   "language": "python",
   "name": "python3"
  },
  "language_info": {
   "codemirror_mode": {
    "name": "ipython",
    "version": 3
   },
   "file_extension": ".py",
   "mimetype": "text/x-python",
   "name": "python",
   "nbconvert_exporter": "python",
   "pygments_lexer": "ipython3",
   "version": "3.12.3"
  }
 },
 "nbformat": 4,
 "nbformat_minor": 5
}
