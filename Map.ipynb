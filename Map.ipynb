{
 "cells": [
  {
   "cell_type": "code",
   "execution_count": 1,
   "id": "913f3a43",
   "metadata": {},
   "outputs": [
    {
     "data": {
      "text/plain": [
       "'/home/alikhan/Desktop/Data/selected_map_partners_updated.html'"
      ]
     },
     "execution_count": 1,
     "metadata": {},
     "output_type": "execute_result"
    }
   ],
   "source": [
    "import folium\n",
    "\n",
    "# Центр карты (примерно центр Евразии для удобного отображения стран-партнеров)\n",
    "map_center = [30, 70]  # Координаты широты и долготы\n",
    "\n",
    "# Список стран и их координат\n",
    "selected_countries_coords = {\n",
    "    \"United States\": [37.0902, -95.7129],\n",
    "    \"Turkey\": [38.9637, 35.2433],\n",
    "    \"Azerbaijan\": [40.1431, 47.5769],\n",
    "    \"Lithuania\": [55.1694, 23.8813],\n",
    "    \"Latvia\": [56.8796, 24.6032],\n",
    "    \"Estonia\": [58.5953, 25.0136],\n",
    "    \"India\": [20.5937, 78.9629],\n",
    "    \"Kyrgyzstan\": [41.2044, 74.7661],\n",
    "    \"Russia\": [61.5240, 105.3188],\n",
    "    \"South Korea\": [35.9078, 127.7669],\n",
    "    \"Kazakhstan\": [48.0196, 66.9237]\n",
    "}\n",
    "\n",
    "# Создание карты\n",
    "m = folium.Map(location=map_center, zoom_start=2)\n",
    "\n",
    "# Добавление маркеров для стран\n",
    "for country, coords in selected_countries_coords.items():\n",
    "    folium.Marker(location=coords, popup=country, icon=folium.Icon(color=\"blue\")).add_to(m)\n",
    "\n",
    "# Сохранение карты в файл\n",
    "map_file_path = \"/home/alikhan/Desktop/Data/selected_map_partners_updated.html\"\n",
    "m.save(map_file_path)\n",
    "\n",
    "map_file_path\n"
   ]
  }
 ],
 "metadata": {
  "kernelspec": {
   "display_name": "Python 3 (ipykernel)",
   "language": "python",
   "name": "python3"
  },
  "language_info": {
   "codemirror_mode": {
    "name": "ipython",
    "version": 3
   },
   "file_extension": ".py",
   "mimetype": "text/x-python",
   "name": "python",
   "nbconvert_exporter": "python",
   "pygments_lexer": "ipython3",
   "version": "3.12.3"
  }
 },
 "nbformat": 4,
 "nbformat_minor": 5
}
